{
 "cells": [
  {
   "cell_type": "markdown",
   "metadata": {
    "ExecuteTime": {
     "end_time": "2023-12-22T14:24:19.035026Z",
     "start_time": "2023-12-22T14:24:17.275988Z"
    }
   },
   "source": [
    "Derivation of the mean SED of type-1 QSOs as done in Krawczyk+2013."
   ]
  },
  {
   "cell_type": "code",
   "execution_count": 1,
   "metadata": {
    "ExecuteTime": {
     "end_time": "2023-12-22T14:45:50.866771Z",
     "start_time": "2023-12-22T14:45:50.847118Z"
    }
   },
   "outputs": [],
   "source": [
    "import os\n",
    "import time\n",
    "import pandas as pd\n",
    "import numpy as np \n",
    "import matplotlib.pyplot as plt \n",
    "import library as lb\n",
    "#from my_functions import library as lb\n",
    "#from my_functions import corrections \n",
    "#from my_functions import interpolation_processes as ip\n",
    "\n",
    "pd.options.mode.chained_assignment = None  # default='warn'"
   ]
  },
  {
   "cell_type": "code",
   "execution_count": 31,
   "metadata": {
    "ExecuteTime": {
     "end_time": "2023-12-22T14:45:53.895892Z",
     "start_time": "2023-12-22T14:45:53.886797Z"
    }
   },
   "outputs": [],
   "source": [
    "def dictionary_4_columns(old_magnitudes_names, old_error_names, new_magnitudes_names):\n",
    "    assert(len(old_magnitudes_names)==len(old_error_names))\n",
    "    assert(len(old_magnitudes_names)==len(new_magnitudes_names))\n",
    "    new_error_names =[f\"err_{i}\" for i in new_magnitudes_names]\n",
    "    dictionary = dict()\n",
    "    for omn, oen, nmn, nen in zip(old_magnitudes_names, old_error_names,\n",
    "                                  new_magnitudes_names, new_error_names):\n",
    "        dictionary.update({omn:nmn, oen:nen})\n",
    "    return dictionary\n"
   ]
  },
  {
   "cell_type": "markdown",
   "metadata": {},
   "source": [
    "## Settings"
   ]
  },
  {
   "cell_type": "code",
   "execution_count": 3,
   "metadata": {
    "ExecuteTime": {
     "end_time": "2023-12-22T14:24:19.042862Z",
     "start_time": "2023-12-22T14:24:19.039981Z"
    }
   },
   "outputs": [],
   "source": [
    "#data available here: https://vizier.cds.unistra.fr/viz-bin/VizieR-3?-source=J/ApJS/206/4/qsos\n",
    "magnitudes_filename = 'krawczyk_magnitudes.csv' \n",
    "\n",
    "\n",
    "rapid_corrections = True\n",
    "z_min, z_max, delta_z = 0, 7, 0.01\n",
    "DLA = False\n",
    "H0 = 70\n",
    "Om0 = 0.3\n",
    "grid = np.arange(np.log10(912), 4.75, 0.02)\n",
    "bands_to_merge = [(\"UKIDSS.J\", \"2MASS.J\"),(\"UKIDSS.H\", \"2MASS.H\" ), (\"UKIDSS.K\", \"2MASS.K\")] ##list of lists of bands to merge\n",
    "merged_new_names = [\"J\", \"H\", \"K\" ]  "
   ]
  },
  {
   "cell_type": "markdown",
   "metadata": {},
   "source": [
    "## Table cleaning "
   ]
  },
  {
   "cell_type": "code",
   "execution_count": 4,
   "metadata": {
    "ExecuteTime": {
     "end_time": "2023-12-22T14:24:19.825139Z",
     "start_time": "2023-12-22T14:24:19.248165Z"
    }
   },
   "outputs": [
    {
     "name": "stdout",
     "output_type": "stream",
     "text": [
      "Removing red QSOs\n"
     ]
    }
   ],
   "source": [
    "extra_features_names = ['Name', 'RAJ2000', 'DEJ2000', 'z', 'd_g-i_', 'logL250', 'e_logL250',\n",
    "       'logL510', 'e_logL510', 'BC', 'e_BC', 'logIR', 'e_logIR', 'logOX',\n",
    "       'e_logOX', 'logSX', 'e_logSX', 'logHX', 'e_logHX', 'recno']\n",
    "\n",
    "filter_df = pd.read_csv(\"input_filtri.dat\", comment = '#', delim_whitespace = True)\n",
    "\n",
    "filter_names = filter_df[\"Name\"].to_list()\n",
    "to_correct = filter_df[\"apply_corrections\"].to_list()\n",
    "\n",
    "filters = [lb.filtro(i) for i in filter_names]\n",
    "data = pd.read_table(magnitudes_filename, delimiter =',',header=0)\n",
    "if 'd_g-i_' in data.columns:\n",
    "    data = data[data['d_g-i_']<=0.3]    #Removing Red QSOs\n",
    "    print(\"Removing red QSOs\")\n",
    "else:\n",
    "    print(\"Keeping red QSOs\")"
   ]
  },
  {
   "cell_type": "code",
   "execution_count": 5,
   "metadata": {
    "ExecuteTime": {
     "end_time": "2023-12-22T14:24:19.871514Z",
     "start_time": "2023-12-22T14:24:19.826649Z"
    }
   },
   "outputs": [],
   "source": [
    "magnitudes_columns = [i for i in data.columns if i not in extra_features_names]\n",
    "magnitudes_df = data[magnitudes_columns]\n",
    "redshift = data[\"z\"].to_numpy()\n",
    "old_error_names = [i for i in magnitudes_columns if \"e_\" in i]\n",
    "old_magnitudes_names = [i for i in magnitudes_columns if \"e_\" not in i]\n",
    "dictionary = dictionary_4_columns(old_magnitudes_names, old_error_names, filter_names)\n",
    "magnitudes_df.rename(columns = dictionary, inplace = True)\n",
    "magnitudes_df.replace(to_replace = 0, value = np.nan, inplace = True)\n",
    "magnitudes_df.replace(to_replace = -99, value = np.nan, inplace = True)\n",
    "magnitudes_df.replace(to_replace = +99, value = np.nan, inplace = True)\n",
    "\n",
    "magnitudes = lb.two_2_three(magnitudes_df, has_wavelength = False)\n"
   ]
  },
  {
   "cell_type": "markdown",
   "metadata": {},
   "source": [
    "## Corrections for IGM and Emission Lines"
   ]
  },
  {
   "cell_type": "code",
   "execution_count": 6,
   "metadata": {
    "ExecuteTime": {
     "end_time": "2023-12-22T14:24:42.768849Z",
     "start_time": "2023-12-22T14:24:19.872803Z"
    }
   },
   "outputs": [
    {
     "name": "stdout",
     "output_type": "stream",
     "text": [
      "Corrected magnitudes for SLOAN_SDSS.u\n",
      "Corrected magnitudes for SLOAN_SDSS.g\n",
      "Corrected magnitudes for SLOAN_SDSS.r\n",
      "Corrected magnitudes for SLOAN_SDSS.i\n",
      "Corrected magnitudes for SLOAN_SDSS.z\n",
      "Corrected magnitudes for 2MASS_2MASS.J\n",
      "Corrected magnitudes for 2MASS_2MASS.H\n",
      "Corrected magnitudes for 2MASS_2MASS.Ks\n",
      "Corrected magnitudes for GALEX_GALEX.FUV\n",
      "Corrected magnitudes for GALEX_GALEX.NUV\n",
      "Corrected magnitudes for Spitzer_IRAC.I1\n",
      "Corrected magnitudes for Spitzer_IRAC.I2\n",
      "Corrected magnitudes for UKIRT_UKIDSS.Y\n",
      "Corrected magnitudes for UKIRT_UKIDSS.J\n",
      "Corrected magnitudes for UKIRT_UKIDSS.H\n",
      "Corrected magnitudes for UKIRT_UKIDSS.K\n",
      "Corrected magnitudes for WISE_WISE.W1\n",
      "Corrected magnitudes for WISE_WISE.W2\n",
      "Corrections  required 22.8923 seconds.\n",
      "\n"
     ]
    }
   ],
   "source": [
    "#Correcting magnitudes\n",
    "tic =  time.perf_counter()\n",
    "if rapid_corrections:\n",
    "    rapid_z = np.arange(z_min,z_max+delta_z, step = delta_z, dtype ='float')\n",
    "    delta_magnitudes = np.zeros((magnitudes.shape[1], len(rapid_z)))\n",
    "    for i, filtro in enumerate(filters):\n",
    "        if to_correct[i]:\n",
    "            delta_magnitudes[i,:] = corrections.correct_magnitudes(rapid_z, filtro, DLA = DLA)\n",
    "            print(f\"Corrected magnitudes for {filtro.name}\")\n",
    "    for i, z in enumerate(redshift):\n",
    "        magnitudes[i,:,0] -= delta_magnitudes[:, round((z-z_min)/delta_z)]\n",
    "else:\n",
    "    for i, filtro in enumerate(filters):\n",
    "        if to_correct[i]:\n",
    "            magnitudes[:,i,0]-=corrections.correct_magnitudes(redshift, filtro, DLA = DLA)\n",
    "            print(f\"Corrected magnitudes for {filtro.name}\")\n",
    "toc = time.perf_counter()\n",
    "print(f\"Corrections  required {toc-tic:0.4f} seconds.\\n\")"
   ]
  },
  {
   "cell_type": "markdown",
   "metadata": {},
   "source": [
    "## Merging bands"
   ]
  },
  {
   "cell_type": "code",
   "execution_count": 7,
   "metadata": {
    "ExecuteTime": {
     "end_time": "2023-12-22T14:24:42.892351Z",
     "start_time": "2023-12-22T14:24:42.770409Z"
    }
   },
   "outputs": [],
   "source": [
    "temp_magnitudes = np.zeros((magnitudes.shape[0],magnitudes.shape[1], 3))\n",
    "temp_magnitudes[:,:, 0] = np.array([i.wav for i in filters])\n",
    "temp_magnitudes[:,:,1:] = magnitudes\n",
    "magnitudes_df = lb.three_2_two(temp_magnitudes, band_names = filter_names)\n",
    "del temp_magnitudes"
   ]
  },
  {
   "cell_type": "code",
   "execution_count": 8,
   "metadata": {
    "ExecuteTime": {
     "end_time": "2023-12-22T14:24:42.974467Z",
     "start_time": "2023-12-22T14:24:42.893587Z"
    }
   },
   "outputs": [],
   "source": [
    "for new_name, bands in zip(merged_new_names, bands_to_merge):\n",
    "    magnitudes_df[f\"lambda_{new_name}\"], magnitudes_df[new_name], magnitudes_df[f\"err_{new_name}\"] = \\\n",
    "                           lb.merge_bands_complete(magnitudes_df, bands)\n",
    "    for filtro in bands:\n",
    "        magnitudes_df.drop(columns = [f\"lambda_{filtro}\", filtro, f\"err_{filtro}\"], inplace = True)"
   ]
  },
  {
   "cell_type": "markdown",
   "metadata": {},
   "source": [
    "## Gap filling"
   ]
  },
  {
   "cell_type": "code",
   "execution_count": 9,
   "metadata": {
    "ExecuteTime": {
     "end_time": "2023-12-22T14:24:50.773438Z",
     "start_time": "2023-12-22T14:24:42.975580Z"
    }
   },
   "outputs": [
    {
     "name": "stdout",
     "output_type": "stream",
     "text": [
      "Using mean SED by Krawczyk+13 to perform gap repair\n"
     ]
    }
   ],
   "source": [
    "magnitudes = lb.two_2_three(magnitudes_df)\n",
    "magnitudes = magnitudes[:,np.argsort(magnitudes[0,:,0]), :]\n",
    "magnitudes, coefficients = corrections.process_errors(magnitudes, minimum_error = 0.0, shift_errors = False)\n",
    "magnitudes = corrections.gap_filling(magnitudes, redshift, coefficients)"
   ]
  },
  {
   "cell_type": "markdown",
   "metadata": {},
   "source": [
    "## Removing Host luminosity"
   ]
  },
  {
   "cell_type": "code",
   "execution_count": 10,
   "metadata": {
    "ExecuteTime": {
     "end_time": "2023-12-22T14:24:55.956698Z",
     "start_time": "2023-12-22T14:24:50.774625Z"
    }
   },
   "outputs": [
    {
     "name": "stdout",
     "output_type": "stream",
     "text": [
      "Warning 1 QSOs have L_host > L_all, L_host set to 0\n"
     ]
    }
   ],
   "source": [
    "luminosity = lb.get_luminosity(magnitudes, redshift, H0 = H0, Om0 = Om0)\n",
    "L_host, wrongly_estimated  = corrections.host_correction(luminosity, control_negative = True)\n",
    "print(f\"Warning {np.sum(wrongly_estimated)} QSOs have L_host > L_all, L_host set to 0\")\n",
    "luminosity = luminosity - L_host"
   ]
  },
  {
   "cell_type": "code",
   "execution_count": 11,
   "metadata": {
    "ExecuteTime": {
     "end_time": "2023-12-22T14:24:56.003000Z",
     "start_time": "2023-12-22T14:24:55.959308Z"
    }
   },
   "outputs": [],
   "source": [
    "#take_log\n",
    "luminosity[:,:,0] = np.log10(luminosity[:,:,0])\n",
    "luminosity[:,:,2] = luminosity[:,:,2]/(luminosity[:,:,1]*np.log(10))\n",
    "luminosity[:,:,1] = np.log10(luminosity[:,:,1])"
   ]
  },
  {
   "cell_type": "markdown",
   "metadata": {},
   "source": [
    "## Interpolate over grid"
   ]
  },
  {
   "cell_type": "code",
   "execution_count": 24,
   "metadata": {
    "ExecuteTime": {
     "end_time": "2023-12-22T14:27:25.021961Z",
     "start_time": "2023-12-22T14:27:14.100057Z"
    }
   },
   "outputs": [
    {
     "name": "stdout",
     "output_type": "stream",
     "text": [
      "Interpolated 0th QSO\n",
      "Interpolated 10000th QSO\n",
      "Interpolated 20000th QSO\n",
      "Interpolated 30000th QSO\n",
      "Interpolated 40000th QSO\n",
      "Interpolated 50000th QSO\n",
      "Interpolated 60000th QSO\n",
      "Interpolated 70000th QSO\n",
      "Interpolated 80000th QSO\n",
      "Interpolated 90000th QSO\n",
      "Interpolated 100000th QSO\n",
      "Kriging reguired 10.8 seconds\n"
     ]
    }
   ],
   "source": [
    "interpolated_data = np.empty((luminosity.shape[0], len(grid), 3))\n",
    "interpolated_data.fill(np.nan)\n",
    "tic = time.perf_counter()\n",
    "for j in range(luminosity.shape[0]):\n",
    "     #interpolated_data[j,:,:]= ip.get_GPR(luminosity[j,:,:], grid)\n",
    "     interpolated_data[j,:,:]= ip.get_linear_interpolation(luminosity[j,:,:], grid, extrapolate = True)\n",
    "     if j%10000 ==0:\n",
    "        print(f'Interpolated {j}th QSO')\n",
    "\n",
    "toc = time.perf_counter()\n",
    "print(f\"Kriging reguired {toc-tic:0.1f} seconds\")\n"
   ]
  },
  {
   "cell_type": "code",
   "execution_count": 28,
   "metadata": {
    "ExecuteTime": {
     "end_time": "2023-12-22T14:28:33.067645Z",
     "start_time": "2023-12-22T14:28:32.751708Z"
    }
   },
   "outputs": [],
   "source": [
    "mean_sed = np.zeros((interpolated_data.shape[1], interpolated_data.shape[2]))\n",
    "mean_sed[:,0] = interpolated_data[0,:,0]   ###wavelength\n",
    "\n",
    "###Take mean/median/ weighted mean\n",
    "for i in range(mean_sed.shape[0]):\n",
    "    mean_sed[i,1] = np.nanmedian(interpolated_data[:, i, 1])\n",
    "    mean_sed[i,2] = np.nanstd(interpolated_data[:,i,1])"
   ]
  },
  {
   "cell_type": "code",
   "execution_count": 29,
   "metadata": {
    "ExecuteTime": {
     "end_time": "2023-12-22T14:28:33.398559Z",
     "start_time": "2023-12-22T14:28:33.275788Z"
    }
   },
   "outputs": [
    {
     "data": {
      "text/plain": [
       "<matplotlib.legend.Legend at 0x7f9130bd8ca0>"
      ]
     },
     "execution_count": 29,
     "metadata": {},
     "output_type": "execute_result"
    },
    {
     "data": {
      "image/png": "[encoded data removed]",
      "text/plain": [
       "<Figure size 640x480 with 1 Axes>"
      ]
     },
     "metadata": {},
     "output_type": "display_data"
    }
   ],
   "source": [
    "kra13 = lb.get_sed(which_sed ='krawczyk')\n",
    "fig, ax = plt.subplots()\n",
    "ax.plot(mean_sed[:,0], mean_sed[:,1], c='k')\n",
    "ax.plot(np.log10(kra13 [:,0]), np.log10(kra13 [:,1]), c='r', label =\"Krawczyk+13\")\n",
    "ax.plot([np.log10(912),np.log10(912)], [42, 48], c ='k', ls =':')\n",
    "ax.set_xlim(2.8, 5)\n",
    "ax.set_ylim(45,  46)\n",
    "ax.legend()"
   ]
  },
  {
   "cell_type": "code",
   "execution_count": 27,
   "metadata": {
    "ExecuteTime": {
     "end_time": "2023-12-22T14:27:37.608945Z",
     "start_time": "2023-12-22T14:27:37.499575Z"
    }
   },
   "outputs": [
    {
     "data": {
      "text/plain": [
       "[<matplotlib.lines.Line2D at 0x7f91577b4a90>]"
      ]
     },
     "execution_count": 27,
     "metadata": {},
     "output_type": "execute_result"
    },
    {
     "data": {
      "image/png": "[encoded data removed]",
      "text/plain": [
       "<Figure size 640x480 with 1 Axes>"
      ]
     },
     "metadata": {},
     "output_type": "display_data"
    }
   ],
   "source": [
    "idx = 90\n",
    "fig, ax = plt.subplots()\n",
    "ax.errorbar(luminosity[idx,:, 0], luminosity[idx,:, 1], luminosity[idx,:, 2], ls = 'none')\n",
    "ax.plot(interpolated_data[idx,:, 0], interpolated_data[idx,:, 1])"
   ]
  },
  {
   "cell_type": "code",
   "execution_count": 25,
   "metadata": {
    "ExecuteTime": {
     "end_time": "2023-12-22T14:23:21.921272Z",
     "start_time": "2023-12-22T14:23:21.913843Z"
    }
   },
   "outputs": [
    {
     "data": {
      "text/plain": [
       "array([[2.85797508e+00, 4.50997893e+01, 1.07334952e-01],\n",
       "       [3.03032943e+00, 4.52320659e+01, 6.42652684e-02],\n",
       "       [3.22523707e+00, 4.51734070e+01, 2.56802057e-02],\n",
       "       [3.33744811e+00, 4.50552861e+01, 1.44558439e-02],\n",
       "       [3.45621331e+00, 4.50354298e+01, 1.32591430e-02],\n",
       "       [3.54058170e+00, 4.50018661e+01, 1.69654905e-02],\n",
       "       [3.61846591e+00, 4.49000526e+01, 5.01420023e-02],\n",
       "       [3.68101372e+00, 4.48955752e+01, 2.99252984e-02],\n",
       "       [3.76428469e+00, 4.47595146e+01, 5.14765059e-02],\n",
       "       [3.88049956e+00, 4.48392038e+01, 6.34384585e-02],\n",
       "       [4.01058577e+00, 4.48020735e+01, 4.64228841e-02],\n",
       "       [4.19334746e+00, 4.49666269e+01, 2.68970031e-02],\n",
       "       [4.21296130e+00, 4.49794820e+01, 5.32495015e-03],\n",
       "       [4.31501169e+00, 4.49853180e+01, 5.73011840e-03],\n",
       "       [4.33098783e+00, 4.49955053e+01, 3.58719013e-02],\n",
       "       [4.41832460e+00, 4.50317528e+01, 1.18650274e-02],\n",
       "       [4.54815337e+00, 4.50350008e+01, 5.40824696e-03],\n",
       "       [4.73095361e+00, 4.48864690e+01, 1.40284691e-01],\n",
       "       [5.01212802e+00, 4.48963987e+01, 2.65479784e-01]])"
      ]
     },
     "execution_count": 25,
     "metadata": {},
     "output_type": "execute_result"
    }
   ],
   "source": [
    "luminosity[0,:,:]"
   ]
  },
  {
   "cell_type": "code",
   "execution_count": null,
   "metadata": {},
   "outputs": [],
   "source": []
  }
 ],
 "metadata": {
  "kernelspec": {
   "display_name": "Python 3",
   "language": "python",
   "name": "python3"
  },
  "language_info": {
   "codemirror_mode": {
    "name": "ipython",
    "version": 3
   },
   "file_extension": ".py",
   "mimetype": "text/x-python",
   "name": "python",
   "nbconvert_exporter": "python",
   "pygments_lexer": "ipython3",
   "version": "3.10.12"
  },
  "toc": {
   "base_numbering": 1,
   "nav_menu": {},
   "number_sections": true,
   "sideBar": true,
   "skip_h1_title": false,
   "title_cell": "Table of Contents",
   "title_sidebar": "Contents",
   "toc_cell": false,
   "toc_position": {},
   "toc_section_display": true,
   "toc_window_display": false
  }
 },
 "nbformat": 4,
 "nbformat_minor": 2
}
